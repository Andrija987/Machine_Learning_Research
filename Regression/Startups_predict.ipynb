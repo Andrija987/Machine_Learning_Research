{
 "cells": [
  {
   "cell_type": "code",
   "execution_count": 25,
   "metadata": {},
   "outputs": [],
   "source": [
    "#* Predicting profits of startups\n",
    "\n",
    "# NOTE: Using different Regrestion Models\n",
    "\n",
    "# Importing modules\n",
    "\n",
    "# Importing modules\n",
    "import pandas as pd # data read and manipulation\n",
    "import numpy as np # arrays\n",
    "import matplotlib.pyplot as plt # ploting the data\n",
    "\n",
    "# Importing modules for ML\n",
    "from sklearn.model_selection import StratifiedShuffleSplit\n",
    "from sklearn.model_selection import train_test_split\n",
    "from pandas.plotting import scatter_matrix\n",
    "from sklearn.pipeline import Pipeline # for defining pipelines\n",
    "from sklearn.preprocessing import StandardScaler # for scaling the data\n",
    "from sklearn.metrics import mean_squared_error\n",
    "from sklearn.model_selection import cross_val_score\n",
    "from sklearn.compose import ColumnTransformer\n",
    "from sklearn.preprocessing import OneHotEncoder\n",
    "# importing models\n",
    "from sklearn.linear_model import LinearRegression\n",
    "from sklearn.tree import DecisionTreeRegressor\n",
    "from sklearn.ensemble import RandomForestRegressor\n",
    "# using the grid search for hyperparmeter tuning\n",
    "from sklearn.model_selection import GridSearchCV\n",
    "\n",
    "# Importing other needed models\n",
    "import os"
   ]
  },
  {
   "cell_type": "code",
   "execution_count": 2,
   "metadata": {},
   "outputs": [],
   "source": [
    "#* DATA\n",
    "\n",
    "# Loading data\n",
    "data_path = os.path.join(\"datasets\",\"Startup_prediction\",\"50_Startups.csv\")\n",
    "startup_data = pd.read_csv(data_path)\n"
   ]
  },
  {
   "cell_type": "code",
   "execution_count": 5,
   "metadata": {},
   "outputs": [],
   "source": [
    "# Exploring the data set\n",
    "\n",
    "def exploring_data(data):\n",
    "    \n",
    "    print(\"Data preview\")\n",
    "    print(data.head())\n",
    "    print(\" \")\n",
    "    print(\"Data info\")\n",
    "    print(data.info())\n",
    "    print(\" \")\n",
    "    print(\"Checking to see if there is a NaN values in the dataset\")\n",
    "    print(data.isnull().values.any())\n",
    "    print(\" \")\n",
    "    print(\"Seaing the numerical values in the data set\")\n",
    "    print(data.describe())"
   ]
  },
  {
   "cell_type": "code",
   "execution_count": 6,
   "metadata": {},
   "outputs": [
    {
     "name": "stdout",
     "output_type": "stream",
     "text": [
      "Data preview\n",
      "   R&D Spend  Administration  Marketing Spend       State     Profit\n",
      "0  165349.20       136897.80        471784.10    New York  192261.83\n",
      "1  162597.70       151377.59        443898.53  California  191792.06\n",
      "2  153441.51       101145.55        407934.54     Florida  191050.39\n",
      "3  144372.41       118671.85        383199.62    New York  182901.99\n",
      "4  142107.34        91391.77        366168.42     Florida  166187.94\n",
      " \n",
      "Data info\n",
      "<class 'pandas.core.frame.DataFrame'>\n",
      "RangeIndex: 50 entries, 0 to 49\n",
      "Data columns (total 5 columns):\n",
      " #   Column           Non-Null Count  Dtype  \n",
      "---  ------           --------------  -----  \n",
      " 0   R&D Spend        50 non-null     float64\n",
      " 1   Administration   50 non-null     float64\n",
      " 2   Marketing Spend  50 non-null     float64\n",
      " 3   State            50 non-null     object \n",
      " 4   Profit           50 non-null     float64\n",
      "dtypes: float64(4), object(1)\n",
      "memory usage: 2.1+ KB\n",
      "None\n",
      " \n",
      "Checking to see if there is a NaN values in the dataset\n",
      "False\n",
      " \n",
      "Seaing the numerical values in the data set\n",
      "           R&D Spend  Administration  Marketing Spend         Profit\n",
      "count      50.000000       50.000000        50.000000      50.000000\n",
      "mean    73721.615600   121344.639600    211025.097800  112012.639200\n",
      "std     45902.256482    28017.802755    122290.310726   40306.180338\n",
      "min         0.000000    51283.140000         0.000000   14681.400000\n",
      "25%     39936.370000   103730.875000    129300.132500   90138.902500\n",
      "50%     73051.080000   122699.795000    212716.240000  107978.190000\n",
      "75%    101602.800000   144842.180000    299469.085000  139765.977500\n",
      "max    165349.200000   182645.560000    471784.100000  192261.830000\n"
     ]
    }
   ],
   "source": [
    "# exploring the data set\n",
    "exploring_data(startup_data)"
   ]
  },
  {
   "cell_type": "code",
   "execution_count": null,
   "metadata": {},
   "outputs": [],
   "source": [
    "# Conclustions about the data set:\n",
    "# small data set\n",
    "# 4 attributes, 3 numerical, 1 categorical"
   ]
  },
  {
   "cell_type": "code",
   "execution_count": 7,
   "metadata": {},
   "outputs": [
    {
     "data": {
      "image/png": "[encoded data removed]",
      "text/plain": [
       "<Figure size 1440x720 with 4 Axes>"
      ]
     },
     "metadata": {
      "needs_background": "light"
     },
     "output_type": "display_data"
    }
   ],
   "source": [
    "# Ploting the histogram\n",
    "startup_data.hist(bins=50, figsize=(20, 10))\n",
    "plt.show()"
   ]
  },
  {
   "cell_type": "code",
   "execution_count": 8,
   "metadata": {},
   "outputs": [],
   "source": [
    "#* Spliting data - exploring the train and test data\n",
    "startup_train_set, startup_test_set = train_test_split(startup_data, test_size=0.2, random_state=42)"
   ]
  },
  {
   "cell_type": "code",
   "execution_count": 10,
   "metadata": {},
   "outputs": [
    {
     "name": "stdout",
     "output_type": "stream",
     "text": [
      "40\n",
      "10\n"
     ]
    }
   ],
   "source": [
    "print(len(startup_train_set))\n",
    "print(len(startup_test_set))"
   ]
  },
  {
   "cell_type": "code",
   "execution_count": 12,
   "metadata": {},
   "outputs": [
    {
     "data": {
      "text/plain": [
       "Florida       0.350\n",
       "New York      0.325\n",
       "California    0.325\n",
       "Name: State, dtype: float64"
      ]
     },
     "execution_count": 12,
     "metadata": {},
     "output_type": "execute_result"
    }
   ],
   "source": [
    "# Seeing how well the data is represented in train and test data set\n",
    "startup_train_set[\"State\"].value_counts() / len(startup_train_set)"
   ]
  },
  {
   "cell_type": "code",
   "execution_count": 13,
   "metadata": {},
   "outputs": [
    {
     "data": {
      "text/plain": [
       "New York      0.10\n",
       "California    0.10\n",
       "Florida       0.05\n",
       "Name: State, dtype: float64"
      ]
     },
     "execution_count": 13,
     "metadata": {},
     "output_type": "execute_result"
    }
   ],
   "source": [
    "startup_test_set[\"State\"].value_counts() / len(startup_train_set)"
   ]
  },
  {
   "cell_type": "code",
   "execution_count": 14,
   "metadata": {},
   "outputs": [
    {
     "data": {
      "text/plain": [
       "New York      17\n",
       "California    17\n",
       "Florida       16\n",
       "Name: State, dtype: int64"
      ]
     },
     "execution_count": 14,
     "metadata": {},
     "output_type": "execute_result"
    }
   ],
   "source": [
    "# exploring just the categorical data\n",
    "startup_data[\"State\"].value_counts()"
   ]
  },
  {
   "cell_type": "code",
   "execution_count": 15,
   "metadata": {},
   "outputs": [
    {
     "data": {
      "text/plain": [
       "<AxesSubplot:xlabel='Marketing Spend', ylabel='Profit'>"
      ]
     },
     "execution_count": 15,
     "metadata": {},
     "output_type": "execute_result"
    },
    {
     "data": {
      "image/png": "[encoded data removed]",
      "text/plain": [
       "<Figure size 432x288 with 1 Axes>"
      ]
     },
     "metadata": {
      "needs_background": "light"
     },
     "output_type": "display_data"
    }
   ],
   "source": [
    "#* Discover and visualize the data\n",
    "startup_train_set.plot(kind = \"scatter\", x = \"Marketing Spend\", y = \"Profit\")\n"
   ]
  },
  {
   "cell_type": "code",
   "execution_count": 16,
   "metadata": {},
   "outputs": [
    {
     "name": "stdout",
     "output_type": "stream",
     "text": [
      "                 R&D Spend  Administration  Marketing Spend    Profit\n",
      "R&D Spend         1.000000        0.156385         0.746371  0.973030\n",
      "Administration    0.156385        1.000000        -0.101476  0.090235\n",
      "Marketing Spend   0.746371       -0.101476         1.000000  0.773753\n",
      "Profit            0.973030        0.090235         0.773753  1.000000\n"
     ]
    }
   ],
   "source": [
    "# Looking for corelations in the data\n",
    "corr_matrix = startup_train_set.corr()\n",
    "print(corr_matrix)"
   ]
  },
  {
   "cell_type": "code",
   "execution_count": 17,
   "metadata": {},
   "outputs": [
    {
     "name": "stdout",
     "output_type": "stream",
     "text": [
      "R&D Spend          0.973030\n",
      "Administration     0.090235\n",
      "Marketing Spend    0.773753\n",
      "Profit             1.000000\n",
      "Name: Profit, dtype: float64\n"
     ]
    }
   ],
   "source": [
    "# Corelations just for the Profit\n",
    "print(corr_matrix[\"Profit\"])"
   ]
  },
  {
   "cell_type": "code",
   "execution_count": 18,
   "metadata": {},
   "outputs": [],
   "source": [
    "#* Preparing a data for ML training\n",
    "\n",
    "# deviding data to train and labels\n",
    "# train data\n",
    "startup_train = startup_train_set.drop([\"Profit\"], axis=1)\n",
    "startup_train_labels = startup_train_set[\"Profit\"]\n",
    "\n",
    "# test data\n",
    "startup_test = startup_test_set.drop([\"Profit\"], axis=1)\n",
    "startup_test_labels = startup_test_set[\"Profit\"]"
   ]
  },
  {
   "cell_type": "code",
   "execution_count": 19,
   "metadata": {},
   "outputs": [
    {
     "data": {
      "text/html": [
       "<div>\n",
       "<style scoped>\n",
       "    .dataframe tbody tr th:only-of-type {\n",
       "        vertical-align: middle;\n",
       "    }\n",
       "\n",
       "    .dataframe tbody tr th {\n",
       "        vertical-align: top;\n",
       "    }\n",
       "\n",
       "    .dataframe thead th {\n",
       "        text-align: right;\n",
       "    }\n",
       "</style>\n",
       "<table border=\"1\" class=\"dataframe\">\n",
       "  <thead>\n",
       "    <tr style=\"text-align: right;\">\n",
       "      <th></th>\n",
       "      <th>R&amp;D Spend</th>\n",
       "      <th>Administration</th>\n",
       "      <th>Marketing Spend</th>\n",
       "      <th>State</th>\n",
       "    </tr>\n",
       "  </thead>\n",
       "  <tbody>\n",
       "    <tr>\n",
       "      <th>12</th>\n",
       "      <td>93863.75</td>\n",
       "      <td>127320.38</td>\n",
       "      <td>249839.44</td>\n",
       "      <td>Florida</td>\n",
       "    </tr>\n",
       "    <tr>\n",
       "      <th>4</th>\n",
       "      <td>142107.34</td>\n",
       "      <td>91391.77</td>\n",
       "      <td>366168.42</td>\n",
       "      <td>Florida</td>\n",
       "    </tr>\n",
       "    <tr>\n",
       "      <th>37</th>\n",
       "      <td>44069.95</td>\n",
       "      <td>51283.14</td>\n",
       "      <td>197029.42</td>\n",
       "      <td>California</td>\n",
       "    </tr>\n",
       "    <tr>\n",
       "      <th>8</th>\n",
       "      <td>120542.52</td>\n",
       "      <td>148718.95</td>\n",
       "      <td>311613.29</td>\n",
       "      <td>New York</td>\n",
       "    </tr>\n",
       "    <tr>\n",
       "      <th>3</th>\n",
       "      <td>144372.41</td>\n",
       "      <td>118671.85</td>\n",
       "      <td>383199.62</td>\n",
       "      <td>New York</td>\n",
       "    </tr>\n",
       "  </tbody>\n",
       "</table>\n",
       "</div>"
      ],
      "text/plain": [
       "    R&D Spend  Administration  Marketing Spend       State\n",
       "12   93863.75       127320.38        249839.44     Florida\n",
       "4   142107.34        91391.77        366168.42     Florida\n",
       "37   44069.95        51283.14        197029.42  California\n",
       "8   120542.52       148718.95        311613.29    New York\n",
       "3   144372.41       118671.85        383199.62    New York"
      ]
     },
     "execution_count": 19,
     "metadata": {},
     "output_type": "execute_result"
    }
   ],
   "source": [
    "# checking the data\n",
    "startup_train.head()"
   ]
  },
  {
   "cell_type": "code",
   "execution_count": 20,
   "metadata": {},
   "outputs": [
    {
     "data": {
      "text/plain": [
       "12    141585.52\n",
       "4     166187.94\n",
       "37     89949.14\n",
       "8     152211.77\n",
       "3     182901.99\n",
       "Name: Profit, dtype: float64"
      ]
     },
     "execution_count": 20,
     "metadata": {},
     "output_type": "execute_result"
    }
   ],
   "source": [
    "# checking the data\n",
    "startup_train_labels.head()"
   ]
  },
  {
   "cell_type": "code",
   "execution_count": 23,
   "metadata": {},
   "outputs": [
    {
     "name": "stdout",
     "output_type": "stream",
     "text": [
      "['R&D Spend', 'Administration', 'Marketing Spend']\n",
      "['State']\n"
     ]
    }
   ],
   "source": [
    "#* Transforming the data\n",
    "\n",
    "# getting the numerical attributes\n",
    "startup_train_num = startup_train.drop([\"State\"], axis=1)\n",
    "num_attributes = list(startup_train_num)\n",
    "print(num_attributes)\n",
    "cat_attributes = [\"State\"]\n",
    "print(cat_attributes)"
   ]
  },
  {
   "cell_type": "code",
   "execution_count": 26,
   "metadata": {},
   "outputs": [],
   "source": [
    "# bulind a numerical transformation pipeline\n",
    "num_pipeline = Pipeline([\n",
    "    ('std_scaler', StandardScaler())\n",
    "])\n",
    "\n",
    "full_pipeline = ColumnTransformer([\n",
    "    (\"num\", num_pipeline, num_attributes),\n",
    "    (\"cat\", OneHotEncoder(), cat_attributes)\n",
    "])"
   ]
  },
  {
   "cell_type": "code",
   "execution_count": 27,
   "metadata": {},
   "outputs": [],
   "source": [
    "# preparing the data\n",
    "startup_train_pr = full_pipeline.fit_transform(startup_train)"
   ]
  },
  {
   "cell_type": "code",
   "execution_count": 29,
   "metadata": {},
   "outputs": [
    {
     "data": {
      "text/plain": [
       "array([0.34202149, 0.22787678, 0.12425038, 0.        , 1.        ,\n",
       "       0.        ])"
      ]
     },
     "execution_count": 29,
     "metadata": {},
     "output_type": "execute_result"
    }
   ],
   "source": [
    "# printing just first row to see the data\n",
    "startup_train_pr[0,:]"
   ]
  },
  {
   "cell_type": "code",
   "execution_count": 49,
   "metadata": {},
   "outputs": [
    {
     "name": "stdout",
     "output_type": "stream",
     "text": [
      "Fitted mode\n",
      "RMSE:  8927.489013300055\n",
      "Score:  0.9537019995248526\n"
     ]
    }
   ],
   "source": [
    "#* Selecting and training the Model\n",
    "\n",
    "# Linear Regression\n",
    "lin_reg = LinearRegression()\n",
    "\n",
    "# fiting the model - train data\n",
    "lin_reg.fit(startup_train_pr, startup_train_labels)\n",
    "\n",
    "# predictions\n",
    "startup_tr_pred = lin_reg.predict(startup_train_pr)\n",
    "\n",
    "# evaluating the model - train data\n",
    "def evaluate_model(labels_true, labels_pred, data_train, model):\n",
    "    model_reg_mse = mean_squared_error(labels_true, labels_pred)\n",
    "    model_rmse = np.sqrt(model_reg_mse)\n",
    "    model_score = model.score(data_train, labels_true)\n",
    "    print(\"Fitted mode\")\n",
    "    print(\"RMSE: \", model_rmse)\n",
    "    print(\"Score: \", model_score)\n",
    "    return model_rmse, model_score\n",
    "\n",
    "# evaluating the model - train data\n",
    "lin_rmse, lin_socore = evaluate_model(startup_train_labels, startup_tr_pred, startup_train_pr, lin_reg)"
   ]
  },
  {
   "cell_type": "code",
   "execution_count": 50,
   "metadata": {},
   "outputs": [
    {
     "name": "stdout",
     "output_type": "stream",
     "text": [
      "Fitted mode\n",
      "RMSE:  9055.957323497802\n",
      "Score:  0.8987266414319839\n"
     ]
    }
   ],
   "source": [
    "# evaluating a model - test data\n",
    "startup_test_pr = full_pipeline.transform(startup_test)\n",
    "startup_test_pred = lin_reg.predict(startup_test_pr)\n",
    "lin_rmse_T, lin_socore_T = evaluate_model(startup_test_labels, startup_test_pred, startup_test_pr, lin_reg)"
   ]
  },
  {
   "cell_type": "code",
   "execution_count": 51,
   "metadata": {},
   "outputs": [
    {
     "name": "stdout",
     "output_type": "stream",
     "text": [
      "Scores:  [ 8009.25077294  8646.33675924 10791.25375596  7241.86449402\n",
      "  8021.98497625  9901.65048716  8669.23660064  6304.10521255\n",
      " 19007.15644331 12723.57153486]\n",
      "Mean:  9931.641103692124\n",
      "Standard deviation:  3491.155194325467\n"
     ]
    }
   ],
   "source": [
    "# Doing cross validation\n",
    "lin_reg_crossvalid = cross_val_score(lin_reg, startup_train_pr, startup_train_labels, scoring=\"neg_mean_squared_error\", cv=10)\n",
    "\n",
    "# evaluating a model with rmse\n",
    "lin_rmse_scores = np.sqrt(-lin_reg_crossvalid)\n",
    "\n",
    "# function for printing results\n",
    "def disply_scores(scores):\n",
    "    print(\"Scores: \", scores)\n",
    "    print(\"Mean: \", scores.mean())\n",
    "    print(\"Standard deviation: \", scores.std())\n",
    "\n",
    "disply_scores(lin_rmse_scores)"
   ]
  },
  {
   "cell_type": "code",
   "execution_count": 52,
   "metadata": {},
   "outputs": [
    {
     "name": "stdout",
     "output_type": "stream",
     "text": [
      "Fitted mode\n",
      "RMSE:  0.0\n",
      "Score:  1.0\n",
      "Scores:  [15262.89251068 22266.95861282 15983.10123598  9947.92055643\n",
      "  5786.29532847  6624.37641353 14873.10249794  7703.70653885\n",
      " 16954.67762088 11842.03573371]\n",
      "Mean:  12724.506704927766\n",
      "Standard deviation:  4996.779219959428\n"
     ]
    }
   ],
   "source": [
    "# Decision Tree Model\n",
    "tree_reg = DecisionTreeRegressor()\n",
    "\n",
    "# fiting the model - train data\n",
    "tree_reg.fit(startup_train_pr, startup_train_labels)\n",
    "\n",
    "# predictions\n",
    "startup_tr_pred = tree_reg.predict(startup_train_pr)\n",
    "\n",
    "# evaluating the model - train data\n",
    "tree_rmse, tree_score = evaluate_model(startup_train_labels, startup_tr_pred, startup_train_pr, tree_reg)\n",
    "\n",
    "# Doing cross validation\n",
    "tree_reg_crossvalid = cross_val_score(tree_reg, startup_train_pr, startup_train_labels, scoring=\"neg_mean_squared_error\", cv=10)\n",
    "\n",
    "# evaluating a model with rmse\n",
    "tree_rmse_scores = np.sqrt(-tree_reg_crossvalid)\n",
    "\n",
    "disply_scores(tree_rmse_scores)"
   ]
  },
  {
   "cell_type": "code",
   "execution_count": 53,
   "metadata": {},
   "outputs": [
    {
     "name": "stdout",
     "output_type": "stream",
     "text": [
      "Fitted mode\n",
      "RMSE:  10615.570514325645\n",
      "Score:  0.8608404045865723\n"
     ]
    }
   ],
   "source": [
    "# evaluating a model - test data\n",
    "startup_test_pred = tree_reg.predict(startup_test_pr)\n",
    "tree_rmse_T, tree_score_T = evaluate_model(startup_test_labels, startup_test_pred, startup_test_pr, tree_reg)"
   ]
  },
  {
   "cell_type": "code",
   "execution_count": 81,
   "metadata": {},
   "outputs": [
    {
     "name": "stdout",
     "output_type": "stream",
     "text": [
      "Fitted mode\n",
      "RMSE:  3876.947444237982\n",
      "Score:  0.9912686094621392\n",
      "Scores:  [17201.83792864 21699.05191796 14978.88083581  9632.04291411\n",
      "  4176.20694393  5146.39889337 10408.43043844  7995.94141912\n",
      " 18407.07176933 11842.03573371]\n",
      "Mean:  12148.789879442545\n",
      "Standard deviation:  5506.495977695735\n"
     ]
    }
   ],
   "source": [
    "# Random Forest\n",
    "rfor_reg = RandomForestRegressor()\n",
    "\n",
    "# fiting the model - train data\n",
    "rfor_reg.fit(startup_train_pr, startup_train_labels)\n",
    "\n",
    "# predictions\n",
    "startup_tr_pred = rfor_reg.predict(startup_train_pr)\n",
    "\n",
    "# evaluating the model - train data\n",
    "forest_rmse, forest_score = evaluate_model(startup_train_labels, startup_tr_pred, startup_train_pr, rfor_reg)\n",
    "\n",
    "# Doing cross validation\n",
    "rfor_reg_crossvalid = cross_val_score(tree_reg, startup_train_pr, startup_train_labels, scoring=\"neg_mean_squared_error\", cv=10)\n",
    "\n",
    "# evaluating a model with rmse\n",
    "rfor_rmse_scores = np.sqrt(-rfor_reg_crossvalid)\n",
    "\n",
    "disply_scores(rfor_rmse_scores)"
   ]
  },
  {
   "cell_type": "code",
   "execution_count": 83,
   "metadata": {},
   "outputs": [
    {
     "name": "stdout",
     "output_type": "stream",
     "text": [
      "Fitted mode\n",
      "RMSE:  7960.306308373581\n",
      "Score:  0.9217496952842822\n"
     ]
    }
   ],
   "source": [
    "# evaluating a model - test data\n",
    "startup_test_pred = rfor_reg.predict(startup_test_pr)\n",
    "forest_rmse_T, forest_score_T = evaluate_model(startup_test_labels, startup_test_pred, startup_test_pr, rfor_reg)"
   ]
  },
  {
   "cell_type": "code",
   "execution_count": 65,
   "metadata": {},
   "outputs": [
    {
     "data": {
      "text/plain": [
       "GridSearchCV(cv=5, estimator=RandomForestRegressor(),\n",
       "             param_grid=[{'max_features': [2, 4, 6],\n",
       "                          'n_estimators': [3, 10, 20, 30, 40, 50, 100]},\n",
       "                         {'bootstrap': [False], 'max_features': [2, 3, 4],\n",
       "                          'n_estimators': [3, 10]}],\n",
       "             return_train_score=True, scoring='neg_mean_squared_error')"
      ]
     },
     "execution_count": 65,
     "metadata": {},
     "output_type": "execute_result"
    }
   ],
   "source": [
    "#* Hyperparameter tuning using Grid search\n",
    "\n",
    "param_grid = [\n",
    "    {'n_estimators': [3, 10, 20, 30, 40, 50, 100], 'max_features': [2, 4, 6]},\n",
    "    {'bootstrap': [False], 'n_estimators': [3, 10], 'max_features': [2, 3, 4]},\n",
    "]\n",
    "\n",
    "# defining a model\n",
    "forest_reg = RandomForestRegressor()\n",
    "\n",
    "# defining a grid search to explore different hyperparameters\n",
    "grid_search = GridSearchCV(forest_reg, param_grid, cv=5, scoring='neg_mean_squared_error', return_train_score=True)\n",
    "\n",
    "# training the model\n",
    "grid_search.fit(startup_train_pr, startup_train_labels)"
   ]
  },
  {
   "cell_type": "code",
   "execution_count": 66,
   "metadata": {},
   "outputs": [
    {
     "data": {
      "text/plain": [
       "{'max_features': 6, 'n_estimators': 10}"
      ]
     },
     "execution_count": 66,
     "metadata": {},
     "output_type": "execute_result"
    }
   ],
   "source": [
    "# seeing the best parameters\n",
    "grid_search.best_params_"
   ]
  },
  {
   "cell_type": "code",
   "execution_count": 67,
   "metadata": {},
   "outputs": [
    {
     "data": {
      "text/plain": [
       "RandomForestRegressor(max_features=6, n_estimators=10)"
      ]
     },
     "execution_count": 67,
     "metadata": {},
     "output_type": "execute_result"
    }
   ],
   "source": [
    "grid_search.best_estimator_"
   ]
  },
  {
   "cell_type": "code",
   "execution_count": 68,
   "metadata": {},
   "outputs": [],
   "source": [
    "cvres = grid_search.cv_results_"
   ]
  },
  {
   "cell_type": "code",
   "execution_count": 69,
   "metadata": {},
   "outputs": [
    {
     "name": "stdout",
     "output_type": "stream",
     "text": [
      "21240.986528890982 {'max_features': 2, 'n_estimators': 3}\n",
      "18593.269708488267 {'max_features': 2, 'n_estimators': 10}\n",
      "18550.302204923915 {'max_features': 2, 'n_estimators': 20}\n",
      "18720.547902504295 {'max_features': 2, 'n_estimators': 30}\n",
      "17732.87947154719 {'max_features': 2, 'n_estimators': 40}\n",
      "17454.405380065553 {'max_features': 2, 'n_estimators': 50}\n",
      "16895.921555298435 {'max_features': 2, 'n_estimators': 100}\n",
      "17449.627771501364 {'max_features': 4, 'n_estimators': 3}\n",
      "13326.966292517232 {'max_features': 4, 'n_estimators': 10}\n",
      "12213.24983211263 {'max_features': 4, 'n_estimators': 20}\n",
      "11503.462126857023 {'max_features': 4, 'n_estimators': 30}\n",
      "11703.172178512417 {'max_features': 4, 'n_estimators': 40}\n",
      "11844.112676337736 {'max_features': 4, 'n_estimators': 50}\n",
      "12569.632889558117 {'max_features': 4, 'n_estimators': 100}\n",
      "14127.957358091577 {'max_features': 6, 'n_estimators': 3}\n",
      "9608.182905369726 {'max_features': 6, 'n_estimators': 10}\n",
      "10187.765745161994 {'max_features': 6, 'n_estimators': 20}\n",
      "11210.986065355888 {'max_features': 6, 'n_estimators': 30}\n",
      "9824.855998277026 {'max_features': 6, 'n_estimators': 40}\n",
      "9913.898878864024 {'max_features': 6, 'n_estimators': 50}\n",
      "9763.476749015472 {'max_features': 6, 'n_estimators': 100}\n",
      "20483.579644481062 {'bootstrap': False, 'max_features': 2, 'n_estimators': 3}\n",
      "18384.640706313206 {'bootstrap': False, 'max_features': 2, 'n_estimators': 10}\n",
      "12850.851250713142 {'bootstrap': False, 'max_features': 3, 'n_estimators': 3}\n",
      "13008.158792619295 {'bootstrap': False, 'max_features': 3, 'n_estimators': 10}\n",
      "12578.638890246775 {'bootstrap': False, 'max_features': 4, 'n_estimators': 3}\n",
      "11644.171204453158 {'bootstrap': False, 'max_features': 4, 'n_estimators': 10}\n"
     ]
    }
   ],
   "source": [
    "for mean_score, params in zip(cvres[\"mean_test_score\"], cvres[\"params\"]):\n",
    "    print(np.sqrt(-mean_score), params)"
   ]
  },
  {
   "cell_type": "code",
   "execution_count": 72,
   "metadata": {},
   "outputs": [
    {
     "name": "stdout",
     "output_type": "stream",
     "text": [
      "Fitted mode\n",
      "RMSE:  5023.862994259426\n",
      "Score:  0.9853384744765278\n"
     ]
    }
   ],
   "source": [
    "# Testing out the model\n",
    "model_best = grid_search.best_estimator_\n",
    "\n",
    "# predictions\n",
    "startup_tr_pred = model_best.predict(startup_train_pr)\n",
    "\n",
    "# evaluating the model - train data\n",
    "forest_rmse_gs, forest_score_gs = evaluate_model(startup_train_labels, startup_tr_pred, startup_train_pr, model_best)"
   ]
  },
  {
   "cell_type": "code",
   "execution_count": 73,
   "metadata": {},
   "outputs": [
    {
     "name": "stdout",
     "output_type": "stream",
     "text": [
      "Fitted mode\n",
      "RMSE:  9132.439695501245\n",
      "Score:  0.8970088032459379\n"
     ]
    }
   ],
   "source": [
    "# evaluating a model - test data\n",
    "startup_test_pred = model_best.predict(startup_test_pr)\n",
    "forest_rmse_gsT, forest_score_gsT = evaluate_model(startup_test_labels, startup_test_pred, startup_test_pr, model_best)"
   ]
  },
  {
   "cell_type": "code",
   "execution_count": 78,
   "metadata": {},
   "outputs": [],
   "source": [
    "list_models = ['Linear Regression', 'Decision Tree', 'Random Forest']\n",
    "rmse_all_train = [lin_rmse, tree_rmse, forest_rmse]\n",
    "scoress_all_train = [lin_socore, tree_score, forest_score]\n",
    "rmse_all_test = [lin_rmse_T, tree_rmse_T, forest_rmse_T]\n",
    "scoress_all_test = [lin_socore_T, tree_score_T, forest_score_T]\n",
    "results = pd.DataFrame({'Model': list_models, 'RMSE Train data': rmse_all_train, 'Scores Train data': scoress_all_train, \n",
    "                        'RMSE Test data': rmse_all_test, 'Scores Test data': scoress_all_test}, \n",
    "                       columns=['Model', 'RMSE Train data', 'Scores Train data', 'RMSE Test data', 'Scores Test data'])"
   ]
  },
  {
   "cell_type": "code",
   "execution_count": 80,
   "metadata": {},
   "outputs": [
    {
     "data": {
      "text/html": [
       "<div>\n",
       "<style scoped>\n",
       "    .dataframe tbody tr th:only-of-type {\n",
       "        vertical-align: middle;\n",
       "    }\n",
       "\n",
       "    .dataframe tbody tr th {\n",
       "        vertical-align: top;\n",
       "    }\n",
       "\n",
       "    .dataframe thead th {\n",
       "        text-align: right;\n",
       "    }\n",
       "</style>\n",
       "<table border=\"1\" class=\"dataframe\">\n",
       "  <thead>\n",
       "    <tr style=\"text-align: right;\">\n",
       "      <th></th>\n",
       "      <th>Model</th>\n",
       "      <th>RMSE Train data</th>\n",
       "      <th>Scores Train data</th>\n",
       "      <th>RMSE Test data</th>\n",
       "      <th>Scores Test data</th>\n",
       "    </tr>\n",
       "  </thead>\n",
       "  <tbody>\n",
       "    <tr>\n",
       "      <th>0</th>\n",
       "      <td>Linear Regression</td>\n",
       "      <td>8927.489013</td>\n",
       "      <td>0.953702</td>\n",
       "      <td>9055.957323</td>\n",
       "      <td>0.898727</td>\n",
       "    </tr>\n",
       "    <tr>\n",
       "      <th>1</th>\n",
       "      <td>Decision Tree</td>\n",
       "      <td>0.000000</td>\n",
       "      <td>1.000000</td>\n",
       "      <td>10615.570514</td>\n",
       "      <td>0.860840</td>\n",
       "    </tr>\n",
       "    <tr>\n",
       "      <th>2</th>\n",
       "      <td>Random Forest</td>\n",
       "      <td>3909.383034</td>\n",
       "      <td>0.991122</td>\n",
       "      <td>8467.899816</td>\n",
       "      <td>0.911452</td>\n",
       "    </tr>\n",
       "  </tbody>\n",
       "</table>\n",
       "</div>"
      ],
      "text/plain": [
       "               Model  RMSE Train data  Scores Train data  RMSE Test data  \\\n",
       "0  Linear Regression      8927.489013           0.953702     9055.957323   \n",
       "1      Decision Tree         0.000000           1.000000    10615.570514   \n",
       "2      Random Forest      3909.383034           0.991122     8467.899816   \n",
       "\n",
       "   Scores Test data  \n",
       "0          0.898727  \n",
       "1          0.860840  \n",
       "2          0.911452  "
      ]
     },
     "execution_count": 80,
     "metadata": {},
     "output_type": "execute_result"
    }
   ],
   "source": [
    "results"
   ]
  },
  {
   "cell_type": "code",
   "execution_count": 82,
   "metadata": {},
   "outputs": [
    {
     "data": {
      "image/png": "[encoded data removed]",
      "text/plain": [
       "<Figure size 432x288 with 1 Axes>"
      ]
     },
     "metadata": {
      "needs_background": "light"
     },
     "output_type": "display_data"
    }
   ],
   "source": [
    "# Ploting the train data - Random Forest\n",
    "plt.scatter(startup_train_labels, startup_tr_pred, color=\"b\")\n",
    "plt.plot(startup_train_labels, startup_train_labels, color=\"r\")\n",
    "plt.show()"
   ]
  },
  {
   "cell_type": "code",
   "execution_count": 84,
   "metadata": {},
   "outputs": [
    {
     "data": {
      "image/png": "[encoded data removed]",
      "text/plain": [
       "<Figure size 432x288 with 1 Axes>"
      ]
     },
     "metadata": {
      "needs_background": "light"
     },
     "output_type": "display_data"
    }
   ],
   "source": [
    "# Ploting the test data - Random Forest\n",
    "plt.scatter(startup_test_labels, startup_test_pred, color=\"b\")\n",
    "plt.plot(startup_test_labels, startup_test_labels, color=\"r\")\n",
    "plt.show()"
   ]
  }
 ],
 "metadata": {
  "interpreter": {
   "hash": "0e2c67fd29076ff9511c0a8938da032cdbf269751758aead16ac747d3c6195b1"
  },
  "kernelspec": {
   "display_name": "Python 3.8.7 64-bit",
   "language": "python",
   "name": "python3"
  },
  "language_info": {
   "codemirror_mode": {
    "name": "ipython",
    "version": 3
   },
   "file_extension": ".py",
   "mimetype": "text/x-python",
   "name": "python",
   "nbconvert_exporter": "python",
   "pygments_lexer": "ipython3",
   "version": "3.8.7"
  },
  "orig_nbformat": 4
 },
 "nbformat": 4,
 "nbformat_minor": 2
}
